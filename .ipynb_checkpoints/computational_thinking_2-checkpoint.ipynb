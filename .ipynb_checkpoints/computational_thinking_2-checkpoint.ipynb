{
 "cells": [
  {
   "cell_type": "code",
   "execution_count": 18,
   "id": "8bae6e6f",
   "metadata": {},
   "outputs": [
    {
     "name": "stdout",
     "output_type": "stream",
     "text": [
      "count_of_two= 5\n",
      "count_of_one= 2\n",
      "count_of_zero= 2\n",
      "[0, 0, 1, 1, 2, 2, 2, 2, 2]\n"
     ]
    }
   ],
   "source": [
    "# Note: list will only contain 0,1 or 2\n",
    "list_of_numbers = [2, 1, 2, 0, 0, 1, 2, 2, 2]\n",
    "count_of_zero = 0\n",
    "count_of_one = 0\n",
    "count_of_two = 0\n",
    "\n",
    "for no in list_of_numbers:\n",
    "    if no == 0:\n",
    "        count_of_zero = count_of_zero + 1\n",
    "    elif no == 1:\n",
    "        count_of_one = count_of_one + 1\n",
    "    else:\n",
    "        count_of_two = count_of_two + 1\n",
    "\n",
    "print('count_of_two=',count_of_two)\n",
    "print('count_of_one=',count_of_one)\n",
    "print('count_of_zero=',count_of_zero)\n",
    "\n",
    "print([0]*count_of_zero+[1]*count_of_one+[2]*count_of_two)"
   ]
  },
  {
   "cell_type": "code",
   "execution_count": 8,
   "id": "bcb99877",
   "metadata": {},
   "outputs": [
    {
     "name": "stdout",
     "output_type": "stream",
     "text": [
      "4000\n"
     ]
    }
   ],
   "source": [
    "x = input()"
   ]
  },
  {
   "cell_type": "code",
   "execution_count": 9,
   "id": "3cd5237a",
   "metadata": {},
   "outputs": [
    {
     "name": "stdout",
     "output_type": "stream",
     "text": [
      "4000\n"
     ]
    }
   ],
   "source": [
    "print(x)"
   ]
  },
  {
   "cell_type": "code",
   "execution_count": 19,
   "id": "55f7d940",
   "metadata": {},
   "outputs": [
    {
     "data": {
      "text/plain": [
       "['sayam karthick',\n",
       " 'sayam karthick',\n",
       " 'sayam karthick',\n",
       " 'sayam karthick',\n",
       " 'sayam karthick',\n",
       " 'sayam karthick',\n",
       " 'sayam karthick',\n",
       " 'sayam karthick']"
      ]
     },
     "execution_count": 19,
     "metadata": {},
     "output_type": "execute_result"
    }
   ],
   "source": [
    "['sayam karthick']*8"
   ]
  },
  {
   "cell_type": "code",
   "execution_count": 20,
   "id": "d0af5dfc",
   "metadata": {},
   "outputs": [
    {
     "data": {
      "text/plain": [
       "[0, 0, 0, 0]"
      ]
     },
     "execution_count": 20,
     "metadata": {},
     "output_type": "execute_result"
    }
   ],
   "source": [
    "[0]*4"
   ]
  },
  {
   "cell_type": "code",
   "execution_count": null,
   "id": "d52fbbaf",
   "metadata": {},
   "outputs": [],
   "source": []
  }
 ],
 "metadata": {
  "kernelspec": {
   "display_name": "Python 3 (ipykernel)",
   "language": "python",
   "name": "python3"
  },
  "language_info": {
   "codemirror_mode": {
    "name": "ipython",
    "version": 3
   },
   "file_extension": ".py",
   "mimetype": "text/x-python",
   "name": "python",
   "nbconvert_exporter": "python",
   "pygments_lexer": "ipython3",
   "version": "3.8.9"
  }
 },
 "nbformat": 4,
 "nbformat_minor": 5
}
